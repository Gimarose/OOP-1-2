{
  "nbformat": 4,
  "nbformat_minor": 0,
  "metadata": {
    "colab": {
      "name": "Activity 2-Temperatureipynb",
      "provenance": [],
      "authorship_tag": "ABX9TyM1rE96so0E2uOYePDA0g5c",
      "include_colab_link": true
    },
    "kernelspec": {
      "name": "python3",
      "display_name": "Python 3"
    },
    "language_info": {
      "name": "python"
    }
  },
  "cells": [
    {
      "cell_type": "markdown",
      "metadata": {
        "id": "view-in-github",
        "colab_type": "text"
      },
      "source": [
        "<a href=\"https://colab.research.google.com/github/Gimarose/OOP-1-2/blob/main/Activity_2_Temperatureipynb.ipynb\" target=\"_parent\"><img src=\"https://colab.research.google.com/assets/colab-badge.svg\" alt=\"Open In Colab\"/></a>"
      ]
    },
    {
      "cell_type": "code",
      "execution_count": null,
      "metadata": {
        "colab": {
          "base_uri": "https://localhost:8080/"
        },
        "id": "9RgwjDsVTJne",
        "outputId": "cf9b6f2b-1186-4038-db8a-316ccc692fcd"
      },
      "outputs": [
        {
          "output_type": "stream",
          "name": "stdout",
          "text": [
            "Input temperature in Celsius:30\n",
            "86.0\n"
          ]
        }
      ],
      "source": [
        "#Write a python program that converts the temperature Celsius to Fahrenheit. Create a class name: Temperature\n",
        "#Create Celsius as attribute name, Temp() as method, and temp1 as object name. F= 1.8xC + 32\n",
        "\n",
        "class Temperature:\n",
        "  def __init__(self,Celsius):\n",
        "    self.Celsius = Celsius\n",
        "\n",
        "  def Temp(self):\n",
        "    return ((1.8*self.Celsius)+ 32)\n",
        "  \n",
        "\n",
        "Input_temp= float(input(\"Input temperature in Celsius:\"))\n",
        "temp1 = Temperature(Input_temp)\n",
        "print(round(temp1.Temp(),2))\n"
      ]
    }
  ]
}