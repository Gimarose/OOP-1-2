{
  "nbformat": 4,
  "nbformat_minor": 0,
  "metadata": {
    "colab": {
      "name": "Activity 2",
      "provenance": [],
      "collapsed_sections": [],
      "authorship_tag": "ABX9TyNpFzBqFyclvbetsw3NeTcM",
      "include_colab_link": true
    },
    "kernelspec": {
      "name": "python3",
      "display_name": "Python 3"
    },
    "language_info": {
      "name": "python"
    }
  },
  "cells": [
    {
      "cell_type": "markdown",
      "metadata": {
        "id": "view-in-github",
        "colab_type": "text"
      },
      "source": [
        "<a href=\"https://colab.research.google.com/github/Gimarose/OOP-1-2/blob/main/Activity_2.ipynb\" target=\"_parent\"><img src=\"https://colab.research.google.com/assets/colab-badge.svg\" alt=\"Open In Colab\"/></a>"
      ]
    },
    {
      "cell_type": "markdown",
      "source": [
        "1.Define an Area() method of the class that calculates the circle’s area."
      ],
      "metadata": {
        "id": "Y-fV358YvGhj"
      }
    },
    {
      "cell_type": "code",
      "source": [
        "import math\n",
        "\n",
        "class circleClass():\n",
        "    def __init__(self, circleradius):\n",
        "        self.circleradius = circleradius\n",
        "\n",
        "    def printArea(self):\n",
        "        return math.pi*(self.circleradius**2)\n",
        "circleradius = float(input('Enter some random radius of the circle = '))\n",
        "circleobj = circleClass(circleradius)\n",
        "print(\"The Area of circle with given radius\", circleradius,\n",
        "      '=', round(circleobj.printArea(), 4))"
      ],
      "metadata": {
        "colab": {
          "base_uri": "https://localhost:8080/"
        },
        "id": "QkdekWufr0tA",
        "outputId": "0a4ee89a-ce46-48ee-b2d9-8435e9a45ed4"
      },
      "execution_count": 18,
      "outputs": [
        {
          "output_type": "stream",
          "name": "stdout",
          "text": [
            "Enter some random radius of the circle = 21\n",
            "The Area of circle with given radius 21.0 = 1385.4424\n"
          ]
        }
      ]
    },
    {
      "cell_type": "markdown",
      "source": [
        "2.Define a Perimeter() method of the class which allows you to calculate the\n",
        "perimeter of the circle."
      ],
      "metadata": {
        "id": "OJwfWKgLvpEJ"
      }
    },
    {
      "cell_type": "code",
      "source": [
        "import math\n",
        "class circleClass():\n",
        "  def __init__(self, circleradius):\n",
        "    self.circleradius = circleradius\n",
        "\n",
        "  def printPerimeter(self):\n",
        "      return 2*math.pi*self.circleradius\n",
        "\n",
        "circleradius = float(input(\"Enter the radius of the circle:\"))\n",
        "circleobj = circleClass(circleradius)\n",
        "print(\"The Perimeter of circle with given radius\", circleradius,'=', round(circleobj.printPerimeter(),4))"
      ],
      "metadata": {
        "colab": {
          "base_uri": "https://localhost:8080/"
        },
        "id": "_b6milODsMGc",
        "outputId": "7569e275-2a8d-4b69-e6cd-df5f5ba23ed5"
      },
      "execution_count": 19,
      "outputs": [
        {
          "output_type": "stream",
          "name": "stdout",
          "text": [
            "Enter the radius of the circle:21\n",
            "The Perimeter of circle with given radius 21.0 = 131.9469\n"
          ]
        }
      ]
    }
  ]
}