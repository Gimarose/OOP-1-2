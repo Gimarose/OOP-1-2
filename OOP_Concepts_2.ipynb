{
  "nbformat": 4,
  "nbformat_minor": 0,
  "metadata": {
    "colab": {
      "name": "OOP Concepts 2.ipynb",
      "provenance": [],
      "authorship_tag": "ABX9TyO+7gW5qKAQXgetb/6BXkBK",
      "include_colab_link": true
    },
    "kernelspec": {
      "name": "python3",
      "display_name": "Python 3"
    },
    "language_info": {
      "name": "python"
    }
  },
  "cells": [
    {
      "cell_type": "markdown",
      "metadata": {
        "id": "view-in-github",
        "colab_type": "text"
      },
      "source": [
        "<a href=\"https://colab.research.google.com/github/Gimarose/OOP-1-2/blob/main/OOP_Concepts_2.ipynb\" target=\"_parent\"><img src=\"https://colab.research.google.com/assets/colab-badge.svg\" alt=\"Open In Colab\"/></a>"
      ]
    },
    {
      "cell_type": "code",
      "execution_count": null,
      "metadata": {
        "colab": {
          "base_uri": "https://localhost:8080/"
        },
        "id": "BP519w9RGECf",
        "outputId": "072d95ab-effb-4ce7-d799-735d29a2d499"
      },
      "outputs": [
        {
          "output_type": "stream",
          "name": "stdout",
          "text": [
            "Enter the name of the student: Gimarose Luzande\n",
            "Enter the marks in Prelim: 96\n",
            "Enter the marks in Midterm: 97\n",
            "Enter the marks in Final: 98\n",
            "Average Mark: 97.0\n",
            "Enter the name of the student: Billy Pulido\n",
            "Enter the marks in Prelim: 91\n",
            "Enter the marks in Midterm: 95\n",
            "Enter the marks in Final: 100\n",
            "Average Mark: 95.33333333333333\n",
            "Enter the name of the student: Hazel Quilao\n",
            "Enter the marks in Prelim: 89\n",
            "Enter the marks in Midterm: 90\n",
            "Enter the marks in Final: 95\n",
            "Average Mark: 91.33333333333333\n"
          ]
        }
      ],
      "source": [
        "class Person:\n",
        "  def __init__(self,std1,std2,std3,pre,mid,fin):\n",
        "    self.std1 = std1\n",
        "    self.std2 = std2\n",
        "    self.std3 = std3\n",
        "    self.pre = pre\n",
        "    self.mid = mid\n",
        "    self.fin = fin\n",
        "std1 = input(\"Enter the name of the student: \")\n",
        "pre = float (input(\"Enter the marks in Prelim: \"))\n",
        "mid = float (input(\"Enter the marks in Midterm: \"))\n",
        "fin = float (input(\"Enter the marks in Final: \"))\n",
        "sum = pre + mid + fin\n",
        "average = sum/3\n",
        "print(\"Average Mark:\", average)\n",
        "\n",
        "std2 = input(\"Enter the name of the student: \")\n",
        "pre = float (input(\"Enter the marks in Prelim: \"))\n",
        "mid = float (input(\"Enter the marks in Midterm: \"))\n",
        "fin = float (input(\"Enter the marks in Final: \"))\n",
        "sum = pre + mid + fin\n",
        "average = sum/3\n",
        "print(\"Average Mark:\", average)\n",
        "\n",
        "std3 = input(\"Enter the name of the student: \")\n",
        "pre = float (input(\"Enter the marks in Prelim: \"))\n",
        "mid = float (input(\"Enter the marks in Midterm: \"))\n",
        "fin = float (input(\"Enter the marks in Final: \"))\n",
        "sum = pre + mid + fin\n",
        "average = sum/3\n",
        "print(\"Average Mark:\", average)"
      ]
    }
  ]
}