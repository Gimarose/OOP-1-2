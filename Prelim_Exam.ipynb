{
  "nbformat": 4,
  "nbformat_minor": 0,
  "metadata": {
    "colab": {
      "name": "Prelim Exam.ipynb",
      "provenance": [],
      "authorship_tag": "ABX9TyOy52nuO2o+6X6YZYa1GngB",
      "include_colab_link": true
    },
    "kernelspec": {
      "name": "python3",
      "display_name": "Python 3"
    },
    "language_info": {
      "name": "python"
    }
  },
  "cells": [
    {
      "cell_type": "markdown",
      "metadata": {
        "id": "view-in-github",
        "colab_type": "text"
      },
      "source": [
        "<a href=\"https://colab.research.google.com/github/Gimarose/OOP-1-2/blob/main/Prelim_Exam.ipynb\" target=\"_parent\"><img src=\"https://colab.research.google.com/assets/colab-badge.svg\" alt=\"Open In Colab\"/></a>"
      ]
    },
    {
      "cell_type": "markdown",
      "source": [
        "\n",
        "1.\tWrite a Python to display your full name, student number, age, and course\n",
        "2.\tCreate a class named Student with attributes: Name, Student_No, Age, School, and Course\n",
        "3.\tCreate an object name Myself and assign an instance for each attribute.\n",
        "4.\tCreate a method Info() using an instantiation of a class.\n",
        "5.\tInsert your GitHub link \"Prelim Exam\" from your repository named \"OOP 1-2\"\n",
        "\n"
      ],
      "metadata": {
        "id": "MmoOF7tv2Kdd"
      }
    },
    {
      "cell_type": "code",
      "source": [
        "class Student:\n",
        "  def __init__(self, name, student_no, age, course, school):\n",
        "    self.name = name               \n",
        "    self.student_no = student_no\n",
        "    self.age = age\n",
        "    self.course = course\n",
        "    self.school = school\n",
        "\n",
        "  def info(self):\n",
        "    print(self.name,self.student_no,self.age,self.course,self.school)\n",
        "\n",
        "Myself = Student(\"Gimarose A. Luzande\", \"202107605\", 19, \"BS Computer Engineering\", \"Cavite State University - Main Campus\")\n",
        "\n",
        "print(f\"My name is {Myself.name}, and my student number is {Myself.student_no}. I am {Myself.age} years old. Taking up {Myself.course} at {Myself.school}\")"
      ],
      "metadata": {
        "colab": {
          "base_uri": "https://localhost:8080/"
        },
        "id": "1RgnR2Jc2NQ2",
        "outputId": "b4cf53b1-6643-44b6-c518-438f301bc236"
      },
      "execution_count": 1,
      "outputs": [
        {
          "output_type": "stream",
          "name": "stdout",
          "text": [
            "My name is Gimarose A. Luzande, and my student number is 202107605. I am 19 years old. Taking up BS Computer Engineering at Cavite State University - Main Campus\n"
          ]
        }
      ]
    }
  ]
}